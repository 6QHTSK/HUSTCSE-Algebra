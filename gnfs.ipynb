{
 "cells": [
  {
   "cell_type": "markdown",
   "id": "db241a44a9cb5784",
   "metadata": {
    "collapsed": false,
    "jupyter": {
     "outputs_hidden": false
    }
   },
   "source": [
    "# 练习1\n",
    "## 初始化过程"
   ]
  },
  {
   "cell_type": "code",
   "execution_count": 1,
   "id": "e9df4b3165396c89",
   "metadata": {
    "ExecuteTime": {
     "end_time": "2024-01-16T03:22:44.696016616Z",
     "start_time": "2024-01-16T03:22:43.958056607Z"
    },
    "collapsed": false,
    "jupyter": {
     "outputs_hidden": false
    }
   },
   "outputs": [],
   "source": [
    "from sympy import primerange\n",
    "from tqdm.notebook import tqdm\n",
    "from numpy import sqrt, prod\n",
    "\n",
    "n = 1234268228312430759578090015472355712114804731217710966738223\n",
    "prime_range = int(1e5)"
   ]
  },
  {
   "cell_type": "markdown",
   "id": "50113a68fde707df",
   "metadata": {
    "collapsed": false,
    "jupyter": {
     "outputs_hidden": false
    }
   },
   "source": [
    "## 生成素数基\n",
    "在此筛选出小于$10^5$的所有满足$4k+1$类型的素数。"
   ]
  },
  {
   "cell_type": "code",
   "execution_count": 2,
   "id": "87de8b00ca8e252",
   "metadata": {
    "ExecuteTime": {
     "end_time": "2024-01-16T03:22:44.766193685Z",
     "start_time": "2024-01-16T03:22:44.707282416Z"
    },
    "collapsed": false,
    "jupyter": {
     "outputs_hidden": false
    }
   },
   "outputs": [
    {
     "data": {
      "text/plain": [
       "(4783, [5, 13, 17, 29, 37])"
      ]
     },
     "execution_count": 2,
     "metadata": {},
     "output_type": "execute_result"
    }
   ],
   "source": [
    "primes = [p for p in primerange(2, prime_range)]\n",
    "primes_4k1 = list(filter(lambda p:p % 4 == 1, primes))\n",
    "len(primes_4k1), primes_4k1[0:5]"
   ]
  },
  {
   "cell_type": "markdown",
   "id": "ee542086df540658",
   "metadata": {
    "collapsed": false,
    "jupyter": {
     "outputs_hidden": false
    }
   },
   "source": [
    "## 构造$g(x)$与$f(x)$\n",
    "$$g(x) = m_1x - m_0$$\n",
    "$$f(x) = c_4 x^4 + c_3 x^3 + c_2 x^2 + c_1 x + c_0$$\n",
    "其中满足 \n",
    "$$ m_1 ^4 f(\\frac{m_0}{m_1}) = c_4 m_0 ^ 4 + c_3 m_0 ^ 3 m_1 + c_2 m_0 ^ 2 m_1 ^ 2 + c_1 m_0 m_1 ^ 3 + c_0  m_1^4 \\equiv 0 (mod\\ n) $$"
   ]
  },
  {
   "cell_type": "markdown",
   "id": "a444e27f8b3b1f81",
   "metadata": {
    "collapsed": false,
    "jupyter": {
     "outputs_hidden": false
    }
   },
   "source": [
    "### c_4的选择\n",
    "不得超过$ n^{1/5} $，也即$c_4 < 10^{12}$即可"
   ]
  },
  {
   "cell_type": "code",
   "execution_count": 3,
   "id": "9e6fc086c298276b",
   "metadata": {
    "ExecuteTime": {
     "end_time": "2024-01-16T03:22:44.778484358Z",
     "start_time": "2024-01-16T03:22:44.768253432Z"
    },
    "collapsed": false,
    "jupyter": {
     "outputs_hidden": false
    }
   },
   "outputs": [
    {
     "data": {
      "text/plain": [
       "1042994239879.5706"
      ]
     },
     "execution_count": 3,
     "metadata": {},
     "output_type": "execute_result"
    }
   ],
   "source": [
    "if \"c_4\" not in globals() and \"c_4\" not in locals():\n",
    "    c_4 = 2310\n",
    "pow(n, 1/5)"
   ]
  },
  {
   "cell_type": "markdown",
   "id": "a238b845ee5a7e5a",
   "metadata": {
    "collapsed": false,
    "jupyter": {
     "outputs_hidden": false
    }
   },
   "source": [
    "### 寻找符合条件的小素数p集合\n",
    "要寻找小素数p，其中$m_1$为多个小素数的乘积。且满足\n",
    "$$ c_4 x^4 \\equiv n (mod\\ p_i)$$"
   ]
  },
  {
   "cell_type": "code",
   "execution_count": 4,
   "id": "bd162165b8118ba",
   "metadata": {
    "ExecuteTime": {
     "end_time": "2024-01-16T03:22:45.074067958Z",
     "start_time": "2024-01-16T03:22:44.776912070Z"
    },
    "collapsed": false,
    "jupyter": {
     "outputs_hidden": false
    }
   },
   "outputs": [
    {
     "data": {
      "application/vnd.jupyter.widget-view+json": {
       "model_id": "7e091347f6a84558baa9f8798581a5fa",
       "version_major": 2,
       "version_minor": 0
      },
      "text/plain": [
       "  0%|          | 0/4783 [00:00<?, ?it/s]"
      ]
     },
     "metadata": {},
     "output_type": "display_data"
    },
    {
     "data": {
      "text/plain": [
       "(34, [173, 389, 761, 1009, 1049])"
      ]
     },
     "execution_count": 4,
     "metadata": {},
     "output_type": "execute_result"
    }
   ],
   "source": [
    "prime_base = []\n",
    "\n",
    "for q in tqdm(primes_4k1):\n",
    "    r = n % q\n",
    "    for j in range(1, int(sqrt(q)) + 1):\n",
    "        if c_4 * pow(j, 4, q) % q == r:\n",
    "            prime_base.append(q)\n",
    "            break\n",
    "\n",
    "len(prime_base), prime_base[0:5]"
   ]
  },
  {
   "cell_type": "markdown",
   "id": "fcf7d0a8c7606738",
   "metadata": {
    "collapsed": false,
    "jupyter": {
     "outputs_hidden": false
    }
   },
   "source": [
    "我们令选定的$m_1$ = prime_base前三项之积"
   ]
  },
  {
   "cell_type": "code",
   "execution_count": 5,
   "id": "1f632ef3394fa77",
   "metadata": {
    "ExecuteTime": {
     "end_time": "2024-01-16T03:22:45.104330486Z",
     "start_time": "2024-01-16T03:22:45.077585347Z"
    },
    "collapsed": false,
    "jupyter": {
     "outputs_hidden": false
    }
   },
   "outputs": [
    {
     "data": {
      "text/plain": [
       "([173, 389, 761], 51213017)"
      ]
     },
     "execution_count": 5,
     "metadata": {},
     "output_type": "execute_result"
    }
   ],
   "source": [
    "p = prime_base[:3]\n",
    "m_1 = int(prod(p))\n",
    "p , m_1"
   ]
  },
  {
   "cell_type": "markdown",
   "id": "af5517a5cb8dbc0",
   "metadata": {
    "collapsed": false,
    "jupyter": {
     "outputs_hidden": false
    }
   },
   "source": [
    "### 计算m_0\n",
    "解同余方程$c_4 x^4 \\equiv n (mod\\ p_i)$，获得解集"
   ]
  },
  {
   "cell_type": "code",
   "execution_count": 6,
   "id": "1a6ee8d0d8f359d4",
   "metadata": {
    "ExecuteTime": {
     "end_time": "2024-01-16T03:22:45.164479985Z",
     "start_time": "2024-01-16T03:22:45.084794765Z"
    },
    "collapsed": false,
    "jupyter": {
     "outputs_hidden": false
    }
   },
   "outputs": [
    {
     "name": "stdout",
     "output_type": "stream",
     "text": [
      "p0 = 173, x = [13025276, 17761740, 33451277, 38187741]\n",
      "p1 = 389, x = [20669521, 21196133, 30016884, 30543496]\n",
      "p2 = 761, x = [9959956, 21265852, 29947165, 41253061]\n"
     ]
    }
   ],
   "source": [
    "x_solution = [[] for _ in p]\n",
    "for i in range(len(p)):\n",
    "    r = n % p[i]\n",
    "    rest = m_1 // p[i]\n",
    "    for j in range(1, p[i]):\n",
    "        num = (rest * j) % p[i]\n",
    "        if c_4 * pow(num, 4 , p[i]) % p[i] == r:\n",
    "            x_solution[i].append(rest * j)\n",
    "    print(f\"p{i} = {p[i]}, x = {x_solution[i]}\")"
   ]
  },
  {
   "cell_type": "markdown",
   "id": "818fadd491457267",
   "metadata": {
    "collapsed": false,
    "jupyter": {
     "outputs_hidden": false
    }
   },
   "source": [
    "我们随机挑选上式的解，例如：`x_solution[0][0]` `x_solution[1][1]` `x_solution[2][2]`, \n",
    "依据Kleinjung 算法， m0接近于(n / c_4)^1/4，我们找到最接近此值且能被p整除的数作为m_0的候选，\n",
    "其还需要加上满足同余方程接的部分，也就是要满足上面挑选的解的和。"
   ]
  },
  {
   "cell_type": "code",
   "execution_count": 7,
   "id": "74b6e065670dfcdb",
   "metadata": {
    "ExecuteTime": {
     "end_time": "2024-01-16T03:22:45.177246720Z",
     "start_time": "2024-01-16T03:22:45.128646615Z"
    },
    "collapsed": false,
    "jupyter": {
     "outputs_hidden": false
    }
   },
   "outputs": [
    {
     "data": {
      "text/plain": [
       "152037120783797"
      ]
     },
     "execution_count": 7,
     "metadata": {},
     "output_type": "execute_result"
    }
   ],
   "source": [
    "select_x = [x_solution[i][i] for i in range(len(x_solution))]\n",
    "ideal_m_0 = int(pow(n / c_4, 1/4))\n",
    "m_0 = int(ideal_m_0 / m_1) * m_1 + m_1 + sum(select_x)\n",
    "m_0"
   ]
  },
  {
   "cell_type": "markdown",
   "id": "1640be933d3e4d0a",
   "metadata": {
    "collapsed": false,
    "jupyter": {
     "outputs_hidden": false
    }
   },
   "source": [
    "### 计算多项式系数$c_3$ ~ $c_0$\n",
    "$$ m_1 ^4 f(\\frac{m_0}{m_1}) = c_4 m_0 ^ 4 + c_3 m_0 ^ 3 m_1 + c_2 m_0 ^ 2 m_1 ^ 2 + c_1 m_0 m_1 ^ 3 + c_0  m_1^4 $$\n",
    "我们通过类似的方法，倒推 $c_3$ 至 $c_0$\n",
    "下面是一些方便计算用的中间变量"
   ]
  },
  {
   "cell_type": "markdown",
   "id": "ea3385d6985c7ccf",
   "metadata": {
    "collapsed": false,
    "jupyter": {
     "outputs_hidden": false
    }
   },
   "source": [
    "#### 计算 $c_3$\n"
   ]
  },
  {
   "cell_type": "code",
   "execution_count": 8,
   "id": "63a2d35980bc7ac0",
   "metadata": {
    "ExecuteTime": {
     "end_time": "2024-01-16T03:22:45.287762756Z",
     "start_time": "2024-01-16T03:22:45.181043273Z"
    },
    "collapsed": false,
    "jupyter": {
     "outputs_hidden": false
    }
   },
   "outputs": [
    {
     "data": {
      "text/plain": [
       "-16695292"
      ]
     },
     "execution_count": 8,
     "metadata": {},
     "output_type": "execute_result"
    }
   ],
   "source": [
    "r_3 = (n - c_4 * m_0 ** 4) // m_1\n",
    "c_3 = ((r_3 % m_1) * pow(m_0, -1, m_1) ** 3) % m_1 - m_1\n",
    "c_3"
   ]
  },
  {
   "cell_type": "markdown",
   "id": "d4714f4b89cde022",
   "metadata": {
    "collapsed": false,
    "jupyter": {
     "outputs_hidden": false
    }
   },
   "source": [
    "### 计算 $c_2$"
   ]
  },
  {
   "cell_type": "code",
   "execution_count": 9,
   "id": "d07c3984b7a21e02",
   "metadata": {
    "ExecuteTime": {
     "end_time": "2024-01-16T03:22:45.371289963Z",
     "start_time": "2024-01-16T03:22:45.269697588Z"
    },
    "collapsed": false,
    "jupyter": {
     "outputs_hidden": false
    }
   },
   "outputs": [
    {
     "data": {
      "text/plain": [
       "49517869547863"
      ]
     },
     "execution_count": 9,
     "metadata": {},
     "output_type": "execute_result"
    }
   ],
   "source": [
    "r_2 = (r_3 - c_3 * m_0 ** 3) // m_1\n",
    "c_2 = int((n - c_4 * (ideal_m_0 ** 4)) // ((m_1 ** 2) * (ideal_m_0 ** 2))) - int(ideal_m_0 * (c_4 * 4 * (m_0 - ideal_m_0) + c_3 * m_1) // ( m_1 ** 2 ) )\n",
    "t = c_2 * m_0 ** 2\n",
    "for i in range(m_1):\n",
    "    if r_2 % m_1 == t % m_1:\n",
    "        c_2 += i\n",
    "        break\n",
    "    t += m_0 ** 2\n",
    "c_2"
   ]
  },
  {
   "cell_type": "markdown",
   "id": "44e2e34d6024a912",
   "metadata": {
    "collapsed": false,
    "jupyter": {
     "outputs_hidden": false
    }
   },
   "source": [
    "### 计算 $c_1$"
   ]
  },
  {
   "cell_type": "code",
   "execution_count": 10,
   "id": "defe736676aa5fd0",
   "metadata": {
    "ExecuteTime": {
     "end_time": "2024-01-16T03:22:45.471185644Z",
     "start_time": "2024-01-16T03:22:45.382456052Z"
    },
    "collapsed": false,
    "jupyter": {
     "outputs_hidden": false
    }
   },
   "outputs": [
    {
     "data": {
      "text/plain": [
       "67001124626403"
      ]
     },
     "execution_count": 10,
     "metadata": {},
     "output_type": "execute_result"
    }
   ],
   "source": [
    "r_1 = (r_2 - c_2 * m_0 ** 2) // m_1\n",
    "c_1 = int(r_1 // m_0)\n",
    "t = c_1 * m_0\n",
    "for i in range(m_1):\n",
    "    if r_1 % m_1 == t % m_1:\n",
    "        c_1 += i\n",
    "        break\n",
    "    t += m_0\n",
    "c_1"
   ]
  },
  {
   "cell_type": "markdown",
   "id": "1c541aff719134a",
   "metadata": {
    "collapsed": false,
    "jupyter": {
     "outputs_hidden": false
    }
   },
   "source": [
    "### 计算 $c_0$"
   ]
  },
  {
   "cell_type": "code",
   "execution_count": 11,
   "id": "e8f8eea43058e15e",
   "metadata": {
    "ExecuteTime": {
     "end_time": "2024-01-16T03:22:45.471357054Z",
     "start_time": "2024-01-16T03:22:45.469998307Z"
    },
    "collapsed": false,
    "jupyter": {
     "outputs_hidden": false
    }
   },
   "outputs": [
    {
     "data": {
      "text/plain": [
       "-113113551578641"
      ]
     },
     "execution_count": 11,
     "metadata": {},
     "output_type": "execute_result"
    }
   ],
   "source": [
    "r_0 = (r_1 - c_1 * m_0) // m_1\n",
    "c_0 = r_0\n",
    "c_0"
   ]
  },
  {
   "cell_type": "markdown",
   "id": "a8f4ac7b3caab4d9",
   "metadata": {
    "collapsed": false,
    "jupyter": {
     "outputs_hidden": false
    }
   },
   "source": [
    "### 验算\n",
    "$$ m_1 ^4 f(\\frac{m_0}{m_1}) = c_4 m_0 ^ 4 + c_3 m_0 ^ 3 m_1 + c_2 m_0 ^ 2 m_1 ^ 2 + c_1 m_0 m_1 ^ 3 + c_0  m_1^4 = n $$"
   ]
  },
  {
   "cell_type": "code",
   "execution_count": 12,
   "id": "9e4741a6568db3e0",
   "metadata": {
    "ExecuteTime": {
     "end_time": "2024-01-16T03:22:45.553650581Z",
     "start_time": "2024-01-16T03:22:45.470294441Z"
    },
    "collapsed": false,
    "jupyter": {
     "outputs_hidden": false
    }
   },
   "outputs": [
    {
     "name": "stdout",
     "output_type": "stream",
     "text": [
      "g(x) = 51213017x - 152037120783797\n",
      "m_1 = 51213017, m_0 = 152037120783797\n",
      "f(x) = 2310x^4 + -16695292x^3 + 49517869547863x^2 + 67001124626403x + -113113551578641\n",
      "c_4 = 2310, c_3 = -16695292, c_2 = 49517869547863, c_1 = 67001124626403, c_0 = -113113551578641\n"
     ]
    }
   ],
   "source": [
    "assert (c_4 * m_0 ** 4 + c_3 * m_0 ** 3 * m_1 + c_2 * m_0 ** 2 * m_1 ** 2 + c_1 * m_0 ** 1 * m_1 ** 3 + c_0 * m_1 ** 4 == n)\n",
    "print(f\"g(x) = {m_1}x - {m_0}\")\n",
    "print(f\"m_1 = {m_1}, m_0 = {m_0}\")\n",
    "print(f\"f(x) = {c_4}x^4 + {c_3}x^3 + {c_2}x^2 + {c_1}x + {c_0}\")\n",
    "print(f\"c_4 = {c_4}, c_3 = {c_3}, c_2 = {c_2}, c_1 = {c_1}, c_0 = {c_0}\")"
   ]
  },
  {
   "cell_type": "markdown",
   "id": "94bad6f8d65d57ba",
   "metadata": {
    "collapsed": false,
    "jupyter": {
     "outputs_hidden": false
    }
   },
   "source": [
    "## 探究A/B与COUNT之间的关系\n",
    "### 计算COUNT"
   ]
  },
  {
   "cell_type": "markdown",
   "id": "e4965733066aa180",
   "metadata": {
    "collapsed": false,
    "jupyter": {
     "outputs_hidden": false
    }
   },
   "source": [
    "COUNT是满足特定条件的点(a,b)的数量，其中$ a \\in [-A,A] $， $ b \\in [1,B] $，我们要验证下面两个式子的结果在素数基上平滑\n",
    "$$ b^4f(\\frac{a}{b}) = c_4 a ^ 4 + c_3 a ^ 3 b + c_2 a ^ 2 b ^ 2 + c_1 a b ^ 3 + c_0  b^4$$\n",
    "$$ bg(\\frac{a}{b}) = m_1 a - m_0 b$$"
   ]
  },
  {
   "cell_type": "code",
   "execution_count": 13,
   "id": "53794565e8f1c90f",
   "metadata": {
    "ExecuteTime": {
     "end_time": "2024-01-16T04:16:02.515057738Z",
     "start_time": "2024-01-16T03:22:45.513852421Z"
    },
    "collapsed": false,
    "jupyter": {
     "outputs_hidden": false
    }
   },
   "outputs": [],
   "source": [
    "def formula_b4f(a,b):\n",
    "    return c_4 * a ** 4 + c_3 * a ** 3 * b + c_2 * a ** 2 * b ** 2 + c_1 * a ** 1 * b ** 3 + c_0 * b ** 4\n",
    "def formula_bg(a,b):\n",
    "    return m_1 * a - m_0 * b\n",
    "\n",
    "# Check if smooth under prime < 1e6(primes)\n",
    "def is_smooth(target_num):\n",
    "    # sqrt_target_num = int(sqrt(target_num))\n",
    "    target_num = abs(target_num)\n",
    "    for prime in primes:\n",
    "        if prime > target_num:\n",
    "            return False\n",
    "        while target_num % prime == 0:\n",
    "            target_num //= prime\n",
    "        if target_num == 1:\n",
    "            return True\n",
    "    return False\n",
    "\n",
    "def counting_ab(A):\n",
    "    B = 1000000 // A\n",
    "    count = 0\n",
    "    with tqdm(range(1, A), postfix=\"count: 0\") as it_a:\n",
    "        for a in it_a:\n",
    "            for b in range(1, B):\n",
    "                if is_smooth(formula_b4f(a, b)) and is_smooth(formula_bg(a,b)):\n",
    "                    count += 1\n",
    "                    it_a.set_postfix_str(f\"count: {count}\")\n",
    "                if is_smooth(formula_b4f(-a, b)) and is_smooth(formula_bg(-a, b)):\n",
    "                    count += 1\n",
    "                    it_a.set_postfix_str(f\"count: {count}\")\n",
    "    return count"
   ]
  },
  {
   "cell_type": "markdown",
   "id": "a75316b255db4bdf",
   "metadata": {
    "collapsed": false,
    "jupyter": {
     "outputs_hidden": false
    }
   },
   "source": [
    "### 寻找最佳的A/B\n",
    "\n",
    "实验发现：当A/B 较小，<0.1的时候，几乎找不到平滑数\n",
    "当A/B不断增大时，平滑数的数量不断增加\n",
    "达到约1-4的时候达到峰值\n",
    "然后平滑数的数量不断下降\n",
    "推荐的A/B的取值应该为1-4区间之内"
   ]
  },
  {
   "cell_type": "code",
   "execution_count": 14,
   "id": "41ffbcfb40435967",
   "metadata": {
    "ExecuteTime": {
     "end_time": "2024-01-16T06:35:14.609585061Z",
     "start_time": "2024-01-16T06:35:13.379164682Z"
    },
    "collapsed": false,
    "jupyter": {
     "outputs_hidden": false
    }
   },
   "outputs": [
    {
     "data": {
      "application/vnd.jupyter.widget-view+json": {
       "model_id": "8a909225934a46fe89f80a7e7965cf4f",
       "version_major": 2,
       "version_minor": 0
      },
      "text/plain": [
       "  0%|          | 0/99 [00:00<?, ?it/s, count: 0]"
      ]
     },
     "metadata": {},
     "output_type": "display_data"
    },
    {
     "name": "stdout",
     "output_type": "stream",
     "text": [
      "A: 100, B:10000, skew: 0.01, count: 19\n"
     ]
    },
    {
     "data": {
      "application/vnd.jupyter.widget-view+json": {
       "model_id": "8318f2b9f33d43daa3f8045d2ed23799",
       "version_major": 2,
       "version_minor": 0
      },
      "text/plain": [
       "  0%|          | 0/199 [00:00<?, ?it/s, count: 0]"
      ]
     },
     "metadata": {},
     "output_type": "display_data"
    },
    {
     "name": "stdout",
     "output_type": "stream",
     "text": [
      "A: 200, B:5000, skew: 0.04, count: 40\n"
     ]
    },
    {
     "data": {
      "application/vnd.jupyter.widget-view+json": {
       "model_id": "07c1a188a3b8489aba898fb8340e69f2",
       "version_major": 2,
       "version_minor": 0
      },
      "text/plain": [
       "  0%|          | 0/499 [00:00<?, ?it/s, count: 0]"
      ]
     },
     "metadata": {},
     "output_type": "display_data"
    },
    {
     "name": "stdout",
     "output_type": "stream",
     "text": [
      "A: 500, B:2000, skew: 0.25, count: 107\n"
     ]
    },
    {
     "data": {
      "application/vnd.jupyter.widget-view+json": {
       "model_id": "cbe0037ab43c4134b83261f999210fb2",
       "version_major": 2,
       "version_minor": 0
      },
      "text/plain": [
       "  0%|          | 0/999 [00:00<?, ?it/s, count: 0]"
      ]
     },
     "metadata": {},
     "output_type": "display_data"
    },
    {
     "name": "stdout",
     "output_type": "stream",
     "text": [
      "A: 1000, B:1000, skew: 1.0, count: 154\n"
     ]
    },
    {
     "data": {
      "application/vnd.jupyter.widget-view+json": {
       "model_id": "ee6ecbc7d8014e15802d48d6c8dcb04a",
       "version_major": 2,
       "version_minor": 0
      },
      "text/plain": [
       "  0%|          | 0/1999 [00:00<?, ?it/s, count: 0]"
      ]
     },
     "metadata": {},
     "output_type": "display_data"
    },
    {
     "name": "stdout",
     "output_type": "stream",
     "text": [
      "A: 2000, B:500, skew: 4.0, count: 154\n"
     ]
    },
    {
     "data": {
      "application/vnd.jupyter.widget-view+json": {
       "model_id": "50d8f3ee3c9f44819547eb7e2cc6c935",
       "version_major": 2,
       "version_minor": 0
      },
      "text/plain": [
       "  0%|          | 0/4999 [00:00<?, ?it/s, count: 0]"
      ]
     },
     "metadata": {},
     "output_type": "display_data"
    },
    {
     "name": "stdout",
     "output_type": "stream",
     "text": [
      "A: 5000, B:200, skew: 25.0, count: 126\n"
     ]
    },
    {
     "data": {
      "application/vnd.jupyter.widget-view+json": {
       "model_id": "0eda56113737485ea16363ec5cfefa7b",
       "version_major": 2,
       "version_minor": 0
      },
      "text/plain": [
       "  0%|          | 0/9999 [00:00<?, ?it/s, count: 0]"
      ]
     },
     "metadata": {},
     "output_type": "display_data"
    },
    {
     "name": "stdout",
     "output_type": "stream",
     "text": [
      "A: 10000, B:100, skew: 100.0, count: 98\n"
     ]
    },
    {
     "data": {
      "application/vnd.jupyter.widget-view+json": {
       "model_id": "4aeaa005c92249bbb5742cee78ddf4c4",
       "version_major": 2,
       "version_minor": 0
      },
      "text/plain": [
       "  0%|          | 0/19999 [00:00<?, ?it/s, count: 0]"
      ]
     },
     "metadata": {},
     "output_type": "display_data"
    },
    {
     "name": "stdout",
     "output_type": "stream",
     "text": [
      "A: 20000, B:50, skew: 400.0, count: 98\n"
     ]
    },
    {
     "data": {
      "application/vnd.jupyter.widget-view+json": {
       "model_id": "40d7724488244d28afd26e8d1407b6c7",
       "version_major": 2,
       "version_minor": 0
      },
      "text/plain": [
       "  0%|          | 0/49999 [00:00<?, ?it/s, count: 0]"
      ]
     },
     "metadata": {},
     "output_type": "display_data"
    },
    {
     "name": "stdout",
     "output_type": "stream",
     "text": [
      "A: 50000, B:20, skew: 2500.0, count: 59\n"
     ]
    },
    {
     "data": {
      "image/png": "[encoded data removed]",
      "text/plain": [
       "<Figure size 640x480 with 1 Axes>"
      ]
     },
     "metadata": {},
     "output_type": "display_data"
    }
   ],
   "source": [
    "import matplotlib.pyplot as plt\n",
    "candidate_A = [100, 200, 500, 1000, 2000, 5000, 10000, 20000, 50000]\n",
    "count_of_A = []\n",
    "for A in candidate_A:\n",
    "    count_of_A.append(counting_ab(A))\n",
    "    print(f\"A: {A}, B:{10**6 // A}, skew: {A ** 2 / 10 ** 6}, count: {count_of_A[-1]}\")\n",
    "    \n",
    "plt.xscale('log')\n",
    "\n",
    "plt.plot([A**2 / 10**6 for A in candidate_A], count_of_A, marker='o')\n",
    "# 添加标题和标签\n",
    "plt.title('Skew - Count')\n",
    "plt.xlabel('Skew: A/B (log scale)')\n",
    "plt.ylabel('Count')\n",
    "\n",
    "# 显示图形\n",
    "plt.show()"
   ]
  },
  {
   "cell_type": "markdown",
   "id": "5b02ea6c-0095-4b61-83d4-437e625fcc26",
   "metadata": {},
   "source": [
    "### c_4的值与COUNT的关系\n",
    "\n",
    "实验中调试参数的时候发现：当c_4为1，或者较小的时候，我们发现几乎找不到平滑的数(只有1-2个）\n",
    "\n",
    "然而，当c_4不断扩大，达到60的时候，平滑的数很容易被发现（从19个开始）\n",
    "\n",
    "但是，继续扩大c_4，平滑数的增长速度得不到提升\n",
    "\n",
    "怀疑是c_4的因数越多，越好找到平滑数，但是存在边际效应。"
   ]
  },
  {
   "cell_type": "markdown",
   "id": "765682ce-2b57-448a-8c3d-a2780d78a5df",
   "metadata": {},
   "source": [
    "## 总结\n",
    "使用的各种参数：\n",
    "$$ \\left\\{ \\begin{array}{cl}\n",
    "g(x) = 51213017x - 152037120783797 \\\\\n",
    "f(x) = 2310x^4 -16695292x^3 + 49517869547863x^2 + 67001124626403x - 113113551578641\n",
    "\\end{array} \\right. $$\n",
    "\n",
    "一个A、B取值与count的例子：\n",
    "$$ \\left|\\{ (a,b) \\in [-1000, 1000] x [1, 1000] | b^4f(\\frac{a}{b}), bg(\\frac{a}{b})\\ are\\ smooth \\}\\right| = 154 $$\n",
    "\n",
    "最佳$skew = A/B$取值范围：1~4"
   ]
  }
 ],
 "metadata": {
  "kernelspec": {
   "display_name": "Python 3 (ipykernel)",
   "language": "python",
   "name": "python3"
  },
  "language_info": {
   "codemirror_mode": {
    "name": "ipython",
    "version": 3
   },
   "file_extension": ".py",
   "mimetype": "text/x-python",
   "name": "python",
   "nbconvert_exporter": "python",
   "pygments_lexer": "ipython3",
   "version": "3.11.7"
  }
 },
 "nbformat": 4,
 "nbformat_minor": 5
}
